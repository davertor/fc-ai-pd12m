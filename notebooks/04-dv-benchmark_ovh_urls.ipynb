{
  "cells": [
    {
      "cell_type": "code",
      "execution_count": null,
      "metadata": {},
      "outputs": [],
      "source": [
        "import os\n",
        "from pathlib import Path\n",
        "import time\n",
        "from dotenv import load_dotenv\n",
        "\n",
        "import polars as pl\n",
        "import requests\n",
        "from PIL import Image\n",
        "from io import BytesIO\n",
        "import boto3\n",
        "import s3fs\n",
        "\n",
        "from fc_ai_data_tools.utils import sign_url\n",
        "\n",
        "load_dotenv()"
      ]
    },
    {
      "cell_type": "markdown",
      "metadata": {},
      "source": [
        "## Configure S3"
      ]
    },
    {
      "cell_type": "code",
      "execution_count": 2,
      "metadata": {},
      "outputs": [],
      "source": [
        "def s3_auth():\n",
        "    session = boto3.session.Session(profile_name='default')\n",
        "    credentials = session.get_credentials().get_frozen_credentials()\n",
        "    \n",
        "    s3_fs = s3fs.S3FileSystem(\n",
        "        key=credentials.access_key,\n",
        "        secret=credentials.secret_key,\n",
        "        endpoint_url='https://s3.gra.io.cloud.ovh.net',\n",
        "    )\n",
        "    return s3_fs, credentials"
      ]
    },
    {
      "cell_type": "code",
      "execution_count": 3,
      "metadata": {},
      "outputs": [],
      "source": [
        "aws_region = 'gra'\n",
        "aws_endpoint_url = 'https://s3.gra.io.cloud.ovh.net'\n",
        "bucket_name = 'fc-gra-alejandria'\n",
        "ds_path = f'{bucket_name}/ds/public/PD12M'\n",
        "\n",
        "# Initialize boto3 S3 client\n",
        "s3_fs, credentials = s3_auth()\n",
        "s3_storage_options = {\n",
        "    \"aws_access_key_id\": credentials.access_key,\n",
        "    \"aws_secret_access_key\": credentials.secret_key,\n",
        "    \"endpoint_url\": aws_endpoint_url,\n",
        "    \"aws_region\": aws_region,\n",
        "}"
      ]
    },
    {
      "cell_type": "markdown",
      "metadata": {},
      "source": [
        "## Utils"
      ]
    },
    {
      "cell_type": "code",
      "execution_count": 4,
      "metadata": {},
      "outputs": [],
      "source": [
        "def measure_image_loading_time(df, url_column, num_samples=10, signed_url=False):\n",
        "    \"\"\"\n",
        "    Measure the average time needed to load images from a given URL column\n",
        "    \n",
        "    Args:\n",
        "        df: polars DataFrame containing image URLs\n",
        "        url_column: Name of the column containing URLs to test\n",
        "        num_samples: Number of images to test (default 10)\n",
        "    \n",
        "    Returns:\n",
        "        float: Average loading time in seconds\n",
        "    \"\"\"\n",
        "    # Sample URLs to test\n",
        "    urls = df[url_column].sample(n=num_samples)\n",
        "    \n",
        "    total_time = 0\n",
        "    successful_loads = 0\n",
        "    \n",
        "    for url in urls:\n",
        "        try:\n",
        "            start_time = time.time()\n",
        "            \n",
        "            # Load and verify the image\n",
        "            if url.startswith(\"s3://\"):\n",
        "                if signed_url:\n",
        "                    url = url[len(\"s3:/\") :]\n",
        "                    url = sign_url(url)\n",
        "                    response = requests.get(url)\n",
        "                    img = Image.open(BytesIO(response.content))\n",
        "                    img = img.resize((100, 100))\n",
        "                else:\n",
        "                    with s3_fs.open(url, \"rb\") as f:\n",
        "                        img = Image.open(f)\n",
        "                        img = img.resize((100, 100))\n",
        "            else:\n",
        "                response = requests.get(url)\n",
        "                img = Image.open(BytesIO(response.content))\n",
        "                img = img.resize((100, 100))\n",
        "            \n",
        "            end_time = time.time()\n",
        "            total_time += (end_time - start_time)\n",
        "            successful_loads += 1\n",
        "            \n",
        "        except Exception as e:\n",
        "            print(f\"Failed to load {url}: {str(e)}\")\n",
        "            \n",
        "    if successful_loads == 0:\n",
        "        return float('inf')\n",
        "        \n",
        "    avg_time = total_time / successful_loads\n",
        "    return avg_time"
      ]
    },
    {
      "cell_type": "markdown",
      "metadata": {},
      "source": [
        "## Read data"
      ]
    },
    {
      "cell_type": "code",
      "execution_count": null,
      "metadata": {},
      "outputs": [],
      "source": [
        "feather_path = Path(\"../output/PD12M/global_pd12m_data.feather\")\n",
        "if not feather_path.exists():\n",
        "    raise FileNotFoundError(f\"File {feather_path} does not exist\")\n",
        "\n",
        "df = pl.read_ipc(feather_path)\n",
        "print(f\"Number of rows: {df.height}\")\n",
        "\n",
        "display(df.head())"
      ]
    },
    {
      "cell_type": "code",
      "execution_count": null,
      "metadata": {},
      "outputs": [],
      "source": [
        "target_df = df.with_columns(\n",
        "    (\"s3://fc-gra-alejandria/ds/public/PD12M/\" + pl.col(\"image_path\")).alias(\"ovh_url\")\n",
        ")\n",
        "target_df = target_df[[\"caption\", \"url\", \"ovh_url\", \"image_width\", \"image_height\"]]\n",
        "target_df = target_df.rename({\"url\": \"public_url\"})\n",
        "\n",
        "# Save a sample of the dataframe to a csv file\n",
        "sampled_df = target_df.sample(n=10, seed=42)\n",
        "sampled_df.write_csv(f\"{feather_path.parent}/sampled_pd12m_data.csv\")\n",
        "\n",
        "display(target_df.head())\n"
      ]
    },
    {
      "cell_type": "markdown",
      "metadata": {},
      "source": [
        "### Display an image from OVH"
      ]
    },
    {
      "cell_type": "code",
      "execution_count": 7,
      "metadata": {},
      "outputs": [],
      "source": [
        "# item = target_df.row(0, named=True)\n",
        "# ovh_url = item[\"ovh_url\"]\n",
        "\n",
        "# print(f\"Displaying image from {ovh_url}\")\n",
        "\n",
        "# # with s3_fs.open(item[\"ovh_url\"], \"rb\") as f:\n",
        "# #     img = Image.open(f)\n",
        "# #     display(img)\n",
        "\n",
        "# response = requests.get(item[\"ovh_url\"])\n",
        "# img = Image.open(BytesIO(response.content))\n",
        "# display(img)"
      ]
    },
    {
      "cell_type": "markdown",
      "metadata": {},
      "source": [
        "## Benchmark loading times"
      ]
    },
    {
      "cell_type": "code",
      "execution_count": null,
      "metadata": {},
      "outputs": [],
      "source": [
        "# Test loading times for both URL columns\n",
        "public_time = measure_image_loading_time(target_df, \"public_url\")\n",
        "print(f\"Average loading time for public URLs: {public_time:.2f} seconds\")\n",
        "\n",
        "ovh_time = measure_image_loading_time(target_df, \"ovh_url\")\n",
        "print(f\"Average loading time for OVH URLs: {ovh_time:.2f} seconds\")\n",
        "\n",
        "ovh_signed_time = measure_image_loading_time(target_df, \"ovh_url\", signed_url=True)\n",
        "print(f\"Average loading time for signed OVH URLs: {ovh_signed_time:.2f} seconds\")"
      ]
    }
  ],
  "metadata": {
    "kernelspec": {
      "display_name": ".venv",
      "language": "python",
      "name": "python3"
    },
    "language_info": {
      "codemirror_mode": {
        "name": "ipython",
        "version": 3
      },
      "file_extension": ".py",
      "mimetype": "text/x-python",
      "name": "python",
      "nbconvert_exporter": "python",
      "pygments_lexer": "ipython3",
      "version": "3.11.10"
    }
  },
  "nbformat": 4,
  "nbformat_minor": 2
}
