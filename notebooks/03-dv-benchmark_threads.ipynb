{
  "cells": [
    {
      "cell_type": "code",
      "execution_count": 1,
      "metadata": {},
      "outputs": [],
      "source": [
        "import os\n",
        "os.environ['AWS_CONFIG_FILE'] = '../.aws/config'\n",
        "\n",
        "import json\n",
        "import random\n",
        "import time\n",
        "from pathlib import Path\n",
        "from typing import Optional\n",
        "from functools import partial\n",
        "from tqdm import tqdm\n",
        "from concurrent.futures import ThreadPoolExecutor, as_completed\n",
        "import multiprocessing as mp\n",
        "\n",
        "import boto3\n",
        "import s3fs\n",
        "import polars as pl\n",
        "from PIL import Image\n",
        "from io import BytesIO\n",
        "import matplotlib.pyplot as plt"
      ]
    },
    {
      "cell_type": "markdown",
      "metadata": {},
      "source": [
        "## Utils"
      ]
    },
    {
      "cell_type": "code",
      "execution_count": 2,
      "metadata": {},
      "outputs": [],
      "source": [
        "def get_image_dimensions(image_path: str, image_folder: str, s3_fs: Optional[s3fs.S3FileSystem]) -> Optional[dict]:\n",
        "    if image_path is None:\n",
        "        return None\n",
        "\n",
        "    abs_image_path = f\"{image_folder}/{image_path}\"\n",
        "    img = None\n",
        "    try:\n",
        "        with s3_fs.open(abs_image_path, \"rb\") as f:\n",
        "            img = Image.open(f)\n",
        "    except Exception as e:\n",
        "        print(f\"Error getting image dimensions for {image_path}: {e}\")\n",
        "        return None\n",
        "\n",
        "    if img is not None:\n",
        "        width, height = img.width, img.height\n",
        "        ar = round(width / height, 2)\n",
        "        return {\"width\": width, \"height\": height, \"ar\": ar}\n",
        "    else:\n",
        "        return None\n",
        "    \n",
        "def get_image_path(item_id: str, image_extension: str = \".jpg\") -> str:\n",
        "    return f\"{item_id[:5]}/{item_id}{image_extension}\""
      ]
    },
    {
      "cell_type": "markdown",
      "metadata": {},
      "source": [
        "## Set credentials"
      ]
    },
    {
      "cell_type": "code",
      "execution_count": 3,
      "metadata": {},
      "outputs": [],
      "source": [
        "def s3_auth():\n",
        "    session = boto3.session.Session(profile_name='default')\n",
        "    credentials = session.get_credentials().get_frozen_credentials()\n",
        "    \n",
        "    s3_fs = s3fs.S3FileSystem(\n",
        "        key=credentials.access_key,\n",
        "        secret=credentials.secret_key,\n",
        "        endpoint_url='https://s3.gra.io.cloud.ovh.net',\n",
        "    )\n",
        "    return s3_fs, credentials"
      ]
    },
    {
      "cell_type": "code",
      "execution_count": 4,
      "metadata": {},
      "outputs": [],
      "source": [
        "aws_region = 'gra'\n",
        "aws_endpoint_url = 'https://s3.gra.io.cloud.ovh.net'\n",
        "bucket_name = 'fc-gra-alejandria'\n",
        "ds_path = f'{bucket_name}/ds/public/PD12M'\n",
        "\n",
        "# Initialize boto3 S3 client\n",
        "s3_fs, credentials = s3_auth()\n",
        "s3_storage_options = {\n",
        "    \"aws_access_key_id\": credentials.access_key,\n",
        "    \"aws_secret_access_key\": credentials.secret_key,\n",
        "    \"endpoint_url\": aws_endpoint_url,\n",
        "    \"aws_region\": aws_region,\n",
        "}"
      ]
    },
    {
      "cell_type": "markdown",
      "metadata": {},
      "source": [
        "## Read and format data"
      ]
    },
    {
      "cell_type": "code",
      "execution_count": 5,
      "metadata": {},
      "outputs": [
        {
          "name": "stdout",
          "output_type": "stream",
          "text": [
            "Found 1241 parquet files in s3://fc-gra-alejandria/ds/public/PD12M\n",
            "Number of rows: 9996\n"
          ]
        }
      ],
      "source": [
        "ds_folder = 's3://fc-gra-alejandria/ds/public/PD12M'\n",
        "parquet_files = list(s3_fs.glob(ds_folder + \"/*.parquet\"))\n",
        "parquet_files = [f\"s3://{file}\" for file in parquet_files]\n",
        "print(f\"Found {len(parquet_files)} parquet files in {ds_folder}\")\n",
        "\n",
        "df = pl.read_parquet(parquet_files[0], storage_options=s3_storage_options)\n",
        "df = df.to_pandas()\n",
        "print(f\"Number of rows: {len(df)}\")"
      ]
    },
    {
      "cell_type": "code",
      "execution_count": 6,
      "metadata": {},
      "outputs": [],
      "source": [
        "# Rename columns\n",
        "df = df.rename(columns={\n",
        "    \"key\": \"item_id\",\n",
        "    \"width\": \"image_width\",\n",
        "    \"height\": \"image_height\",\n",
        "})\n",
        "df[\"image_path\"] = df.apply(lambda row: get_image_path(row[\"item_id\"]), axis=1)"
      ]
    },
    {
      "cell_type": "markdown",
      "metadata": {},
      "source": [
        "## Benchmarking"
      ]
    },
    {
      "cell_type": "code",
      "execution_count": 7,
      "metadata": {},
      "outputs": [],
      "source": [
        "image_paths = df[\"image_path\"].tolist()[:500]\n",
        "num_workers_list = [16, 32, 64, 128]"
      ]
    },
    {
      "cell_type": "markdown",
      "metadata": {},
      "source": [
        "### Threading"
      ]
    },
    {
      "cell_type": "code",
      "execution_count": 8,
      "metadata": {},
      "outputs": [
        {
          "name": "stderr",
          "output_type": "stream",
          "text": [
            "100%|\u2588\u2588\u2588\u2588\u2588\u2588\u2588\u2588\u2588\u2588| 4/4 [00:49<00:00, 12.34s/it]\n"
          ]
        }
      ],
      "source": [
        "inference_times = []\n",
        "for num_workers in tqdm(num_workers_list):\n",
        "    tic = time.time()\n",
        "    with ThreadPoolExecutor(max_workers=num_workers) as executor:\n",
        "        futures = [executor.submit(\n",
        "            get_image_dimensions, image_path, ds_folder, s3_fs\n",
        "        ) for image_path in image_paths]\n",
        "        results = list(as_completed(futures))\n",
        "    toc = time.time()\n",
        "    elapsed_time = toc - tic\n",
        "    avg_time = elapsed_time / len(image_paths)\n",
        "    inference_times.append(avg_time)"
      ]
    },
    {
      "cell_type": "code",
      "execution_count": 9,
      "metadata": {},
      "outputs": [
        {
          "data": {
            "image/png": "[encoded data removed]",
            "text/plain": [
              "<Figure size 1000x600 with 1 Axes>"
            ]
          },
          "metadata": {},
          "output_type": "display_data"
        }
      ],
      "source": [
        "# Plot results\n",
        "plt.figure(figsize=(10, 6))\n",
        "plt.plot(num_workers_list, inference_times, marker='o', linestyle='-', color='b')\n",
        "plt.xlabel('Number of Workers')\n",
        "plt.ylabel('Average inference time (s)')\n",
        "plt.title('Inference time vs number of workers')\n",
        "plt.grid(True)\n",
        "plt.show()"
      ]
    },
    {
      "cell_type": "markdown",
      "metadata": {},
      "source": [
        "### Multiprocessing"
      ]
    },
    {
      "cell_type": "code",
      "execution_count": null,
      "metadata": {},
      "outputs": [],
      "source": [
        "inference_times_mp = []\n",
        "dest_folder = \"output\"\n",
        "if not os.path.exists(dest_folder):\n",
        "    os.makedirs(dest_folder)\n",
        "\n",
        "num_workers = [2, 4, 8]\n",
        "for num_workers in tqdm(num_workers_list):\n",
        "    tic = time.time()\n",
        "    with mp.Pool(processes=num_workers) as pool:\n",
        "        results = pool.map(\n",
        "            partial(process_parquet, ds_folder=ds_folder, dest_folder=dest_folder, max_items=50),\n",
        "            parquet_files[:10]\n",
        "        )\n",
        "    toc = time.time()\n",
        "    inference_times_mp.append(toc - tic)"
      ]
    },
    {
      "cell_type": "code",
      "execution_count": null,
      "metadata": {},
      "outputs": [],
      "source": [
        "plt.figure(figsize=(10, 6))\n",
        "plt.plot(num_workers_list, inference_times_mp, marker='o', linestyle='-', label='Multiprocessing', color='r')\n",
        "plt.xlabel('Number of Workers')\n",
        "plt.ylabel('Inference Time (s)')\n",
        "plt.title('Threading vs Multiprocessing Performance Comparison')\n",
        "plt.legend()\n",
        "plt.grid(True)\n",
        "plt.show()"
      ]
    },
    {
      "cell_type": "code",
      "execution_count": null,
      "metadata": {},
      "outputs": [],
      "source": []
    }
  ],
  "metadata": {
    "kernelspec": {
      "display_name": ".venv",
      "language": "python",
      "name": "python3"
    },
    "language_info": {
      "codemirror_mode": {
        "name": "ipython",
        "version": 3
      },
      "file_extension": ".py",
      "mimetype": "text/x-python",
      "name": "python",
      "nbconvert_exporter": "python",
      "pygments_lexer": "ipython3",
      "version": "3.11.10"
    }
  },
  "nbformat": 4,
  "nbformat_minor": 2
}
