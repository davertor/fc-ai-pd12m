{
  "cells": [
    {
      "cell_type": "code",
      "execution_count": 19,
      "metadata": {},
      "outputs": [],
      "source": [
        "import os\n",
        "os.environ['AWS_CONFIG_FILE'] = '../.aws/config'\n",
        "\n",
        "import json\n",
        "import random\n",
        "from pathlib import Path\n",
        "\n",
        "import boto3\n",
        "import s3fs\n",
        "import polars as pl\n",
        "from PIL import Image\n",
        "from io import BytesIO"
      ]
    },
    {
      "cell_type": "markdown",
      "metadata": {},
      "source": [
        "## Configure S3"
      ]
    },
    {
      "cell_type": "code",
      "execution_count": null,
      "metadata": {},
      "outputs": [],
      "source": [
        "aws_region = 'gra'\n",
        "aws_endpoint_url = 'https://s3.gra.io.cloud.ovh.net'\n",
        "bucket_name = 'fc-gra-alejandria'\n",
        "ds_path = f'{bucket_name}/ds/public/PD12M'\n",
        "\n",
        "# Initialize boto3 S3 client\n",
        "session = boto3.session.Session(profile_name='default')\n",
        "credentials = session.get_credentials().get_frozen_credentials()\n",
        "\n",
        "s3 = s3fs.S3FileSystem(\n",
        "    key=credentials.access_key,\n",
        "    secret=credentials.secret_key,\n",
        "    endpoint_url=aws_endpoint_url,\n",
        "    # region_name=aws_region\n",
        ")\n",
        "\n",
        "# Test that s3fs works\n",
        "try:\n",
        "    files_list = s3.ls(ds_path)\n",
        "    print(\"S3FS works\")\n",
        "except Exception as e:\n",
        "    print(\"S3FS does not work: \", e)"
      ]
    },
    {
      "cell_type": "markdown",
      "metadata": {},
      "source": [
        "## Test sample parquet file"
      ]
    },
    {
      "cell_type": "code",
      "execution_count": null,
      "metadata": {},
      "outputs": [],
      "source": [
        "parquet_id = '00891'\n",
        "parquet_path = f's3://{ds_path}/{parquet_id}.parquet'\n",
        "with s3.open(parquet_path, 'rb') as f:\n",
        "    df = pl.read_parquet(f)\n",
        "\n",
        "display(df.head())"
      ]
    },
    {
      "cell_type": "code",
      "execution_count": null,
      "metadata": {},
      "outputs": [],
      "source": [
        "# List images inside the folder\n",
        "item_id = random.choice(df['key'].to_list())\n",
        "folder_id = item_id[:5]\n",
        "print(f\"Item ID: {item_id}. Folder ID: {folder_id}\")\n",
        "\n",
        "images_folder = f'{ds_path}/{folder_id}'\n",
        "if not s3.exists(images_folder):\n",
        "    raise ValueError(f\"Images folder does not exist: {images_folder}\")\n",
        "print(f\"Images folder: {images_folder}\")\n",
        "\n",
        "item = df.filter(pl.col('key') == item_id).row(0, named=True)\n",
        "display(item)\n",
        "\n",
        "image_path = f\"{images_folder}/{item['key']}.jpg\"\n",
        "if not s3.exists(image_path):\n",
        "    raise ValueError(f\"Image does not exist: {image_path}\")\n",
        "print(f\"Image path: {image_path}\")\n",
        "\n",
        "json_path = Path(image_path).with_suffix('.json')\n",
        "if not s3.exists(json_path):\n",
        "    raise ValueError(f\"JSON file does not exist: {json_path}\")\n",
        "print(f\"JSON path: {json_path}\")\n",
        "\n",
        "# Open the first image\n",
        "with s3.open(image_path, 'rb') as f:\n",
        "    image = Image.open(f).convert('RGB')\n",
        "\n",
        "# Open json file \n",
        "with s3.open(json_path, 'rb') as f:\n",
        "    json_data = json.load(f)\n",
        "\n",
        "display(json_data)\n",
        "display(image)"
      ]
    },
    {
      "cell_type": "code",
      "execution_count": null,
      "metadata": {},
      "outputs": [],
      "source": []
    }
  ],
  "metadata": {
    "kernelspec": {
      "display_name": ".venv",
      "language": "python",
      "name": "python3"
    },
    "language_info": {
      "codemirror_mode": {
        "name": "ipython",
        "version": 3
      },
      "file_extension": ".py",
      "mimetype": "text/x-python",
      "name": "python",
      "nbconvert_exporter": "python",
      "pygments_lexer": "ipython3",
      "version": "3.11.10"
    }
  },
  "nbformat": 4,
  "nbformat_minor": 2
}
