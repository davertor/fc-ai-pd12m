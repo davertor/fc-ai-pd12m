{
  "cells": [
    {
      "cell_type": "code",
      "execution_count": 3,
      "metadata": {},
      "outputs": [
        {
          "data": {
            "text/html": [
              "<div>\n",
              "<style scoped>\n",
              "    .dataframe tbody tr th:only-of-type {\n",
              "        vertical-align: middle;\n",
              "    }\n",
              "\n",
              "    .dataframe tbody tr th {\n",
              "        vertical-align: top;\n",
              "    }\n",
              "\n",
              "    .dataframe thead th {\n",
              "        text-align: right;\n",
              "    }\n",
              "</style>\n",
              "<table border=\"1\" class=\"dataframe\">\n",
              "  <thead>\n",
              "    <tr style=\"text-align: right;\">\n",
              "      <th></th>\n",
              "      <th>a</th>\n",
              "      <th>b</th>\n",
              "      <th>square</th>\n",
              "      <th>cube</th>\n",
              "    </tr>\n",
              "  </thead>\n",
              "  <tbody>\n",
              "    <tr>\n",
              "      <th>0</th>\n",
              "      <td>00000</td>\n",
              "      <td>house</td>\n",
              "      <td>0</td>\n",
              "      <td>0</td>\n",
              "    </tr>\n",
              "    <tr>\n",
              "      <th>1</th>\n",
              "      <td>00001</td>\n",
              "      <td>car</td>\n",
              "      <td>1</td>\n",
              "      <td>1</td>\n",
              "    </tr>\n",
              "  </tbody>\n",
              "</table>\n",
              "</div>"
            ],
            "text/plain": [
              "       a      b  square  cube\n",
              "0  00000  house       0     0\n",
              "1  00001    car       1     1"
            ]
          },
          "metadata": {},
          "output_type": "display_data"
        }
      ],
      "source": [
        "import polars as pl\n",
        "import pandas as pd\n",
        "\n",
        "data = {\"a\": [\"00000\", \"00001\"], \"b\": [\"house\", \"car\"]}\n",
        "\n",
        "def get_square_and_cube(item: str) -> tuple[int, int]:\n",
        "    num = int(item)\n",
        "    return {\"square\": num ** 2, \"cube\": num ** 3}  # Return a dictionary instead of tuple\n",
        "\n",
        "# Polars\n",
        "# df = pl.DataFrame(data)\n",
        "\n",
        "# df = df.with_columns(\n",
        "#     pl.col(\"a\").map_elements(\n",
        "#         get_square_and_cube,\n",
        "#         return_dtype=pl.Struct([pl.Field(\"square\", pl.Int64), pl.Field(\"cube\", pl.Int64)])\n",
        "#     ).alias(\"calculations\")\n",
        "# ).unnest(\"calculations\")\n",
        "# print(df)\n",
        "\n",
        "# Pandas\n",
        "df = pd.DataFrame(data)\n",
        "\n",
        "df[\"calculations\"] = df[\"a\"].apply(get_square_and_cube)\n",
        "df = df.join(df[\"calculations\"].apply(pd.Series)).drop(columns=[\"calculations\"])\n",
        "display(df)"
      ]
    },
    {
      "cell_type": "code",
      "execution_count": 14,
      "metadata": {},
      "outputs": [
        {
          "name": "stdout",
          "output_type": "stream",
          "text": [
            "shape: (2, 3)\n",
            "\u250c\u2500\u2500\u2500\u2500\u2500\u2500\u2500\u252c\u2500\u2500\u2500\u2500\u2500\u2500\u2500\u252c\u2500\u2500\u2500\u2500\u2500\u2500\u2500\u2500\u2500\u2500\u2500\u2500\u2500\u2500\u2510\n",
            "\u2502 a     \u2506 b     \u2506 calculations \u2502\n",
            "\u2502 ---   \u2506 ---   \u2506 ---          \u2502\n",
            "\u2502 str   \u2506 str   \u2506 list[i64]    \u2502\n",
            "\u255e\u2550\u2550\u2550\u2550\u2550\u2550\u2550\u256a\u2550\u2550\u2550\u2550\u2550\u2550\u2550\u256a\u2550\u2550\u2550\u2550\u2550\u2550\u2550\u2550\u2550\u2550\u2550\u2550\u2550\u2550\u2561\n",
            "\u2502 00000 \u2506 house \u2506 [0, 0]       \u2502\n",
            "\u2502 00001 \u2506 car   \u2506 [1, 1]       \u2502\n",
            "\u2514\u2500\u2500\u2500\u2500\u2500\u2500\u2500\u2534\u2500\u2500\u2500\u2500\u2500\u2500\u2500\u2534\u2500\u2500\u2500\u2500\u2500\u2500\u2500\u2500\u2500\u2500\u2500\u2500\u2500\u2500\u2518\n"
          ]
        }
      ],
      "source": [
        "print(df)"
      ]
    }
  ],
  "metadata": {
    "kernelspec": {
      "display_name": ".venv",
      "language": "python",
      "name": "python3"
    },
    "language_info": {
      "codemirror_mode": {
        "name": "ipython",
        "version": 3
      },
      "file_extension": ".py",
      "mimetype": "text/x-python",
      "name": "python",
      "nbconvert_exporter": "python",
      "pygments_lexer": "ipython3",
      "version": "3.11.10"
    }
  },
  "nbformat": 4,
  "nbformat_minor": 2
}
